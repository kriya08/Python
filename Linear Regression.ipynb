{
 "cells": [
  {
   "cell_type": "code",
   "execution_count": 2,
   "id": "ab0fc376",
   "metadata": {},
   "outputs": [],
   "source": [
    "import pandas as pd\n",
    "import statsmodels.api as sm"
   ]
  },
  {
   "cell_type": "code",
   "execution_count": 3,
   "id": "c4f1ad45",
   "metadata": {},
   "outputs": [],
   "source": [
    "walmart = pd.read_csv(\"C:\\\\Users\\\\Mili Mondal\\\\Downloads\\\\R CSV\\\\Linear_reg_retail.csv\")"
   ]
  },
  {
   "cell_type": "code",
   "execution_count": 4,
   "id": "d7933cd9",
   "metadata": {},
   "outputs": [
    {
     "data": {
      "text/plain": [
       "['Customer_Satisfaction',\n",
       " 'Product_Quality',\n",
       " 'E_Commerce',\n",
       " 'Technical_Support',\n",
       " 'Complaint_Resolution',\n",
       " 'Advertising',\n",
       " 'Product_Line',\n",
       " 'Salesforce_Image',\n",
       " 'Competitive_Pricing',\n",
       " 'Warranty_Claims',\n",
       " 'Packaging',\n",
       " 'Order_Billing',\n",
       " 'Price_Flexibility',\n",
       " 'Delivery_Speed']"
      ]
     },
     "execution_count": 4,
     "metadata": {},
     "output_type": "execute_result"
    }
   ],
   "source": [
    "list(walmart.columns.values)"
   ]
  },
  {
   "cell_type": "code",
   "execution_count": 5,
   "id": "2bbedf0c",
   "metadata": {},
   "outputs": [],
   "source": [
    "y = walmart.Customer_Satisfaction\n",
    "x = walmart.Delivery_Speed"
   ]
  },
  {
   "cell_type": "code",
   "execution_count": 6,
   "id": "c0327e1c",
   "metadata": {},
   "outputs": [],
   "source": [
    "x=sm.add_constant(x)"
   ]
  },
  {
   "cell_type": "code",
   "execution_count": 7,
   "id": "dc2813ef",
   "metadata": {},
   "outputs": [],
   "source": [
    "model = sm.OLS(y,x)"
   ]
  },
  {
   "cell_type": "code",
   "execution_count": 8,
   "id": "60ac6d64",
   "metadata": {},
   "outputs": [],
   "source": [
    "results = model.fit()"
   ]
  },
  {
   "cell_type": "code",
   "execution_count": 9,
   "id": "14c1a2ae",
   "metadata": {},
   "outputs": [
    {
     "data": {
      "text/plain": [
       "<statsmodels.regression.linear_model.RegressionResultsWrapper at 0x1f2a4f865b0>"
      ]
     },
     "execution_count": 9,
     "metadata": {},
     "output_type": "execute_result"
    }
   ],
   "source": [
    "results"
   ]
  },
  {
   "cell_type": "code",
   "execution_count": 10,
   "id": "bbd82ad6",
   "metadata": {},
   "outputs": [
    {
     "data": {
      "text/html": [
       "<table class=\"simpletable\">\n",
       "<caption>OLS Regression Results</caption>\n",
       "<tr>\n",
       "  <th>Dep. Variable:</th>    <td>Customer_Satisfaction</td> <th>  R-squared:         </th> <td>   0.397</td>\n",
       "</tr>\n",
       "<tr>\n",
       "  <th>Model:</th>                     <td>OLS</td>          <th>  Adj. R-squared:    </th> <td>   0.394</td>\n",
       "</tr>\n",
       "<tr>\n",
       "  <th>Method:</th>               <td>Least Squares</td>     <th>  F-statistic:       </th> <td>   130.4</td>\n",
       "</tr>\n",
       "<tr>\n",
       "  <th>Date:</th>               <td>Sat, 13 May 2023</td>    <th>  Prob (F-statistic):</th> <td>1.56e-23</td>\n",
       "</tr>\n",
       "<tr>\n",
       "  <th>Time:</th>                   <td>20:04:01</td>        <th>  Log-Likelihood:    </th> <td> -275.89</td>\n",
       "</tr>\n",
       "<tr>\n",
       "  <th>No. Observations:</th>        <td>   200</td>         <th>  AIC:               </th> <td>   555.8</td>\n",
       "</tr>\n",
       "<tr>\n",
       "  <th>Df Residuals:</th>            <td>   198</td>         <th>  BIC:               </th> <td>   562.4</td>\n",
       "</tr>\n",
       "<tr>\n",
       "  <th>Df Model:</th>                <td>     1</td>         <th>                     </th>     <td> </td>   \n",
       "</tr>\n",
       "<tr>\n",
       "  <th>Covariance Type:</th>        <td>nonrobust</td>       <th>                     </th>     <td> </td>   \n",
       "</tr>\n",
       "</table>\n",
       "<table class=\"simpletable\">\n",
       "<tr>\n",
       "         <td></td>           <th>coef</th>     <th>std err</th>      <th>t</th>      <th>P>|t|</th>  <th>[0.025</th>    <th>0.975]</th>  \n",
       "</tr>\n",
       "<tr>\n",
       "  <th>const</th>          <td>    2.9692</td> <td>    0.355</td> <td>    8.355</td> <td> 0.000</td> <td>    2.268</td> <td>    3.670</td>\n",
       "</tr>\n",
       "<tr>\n",
       "  <th>Delivery_Speed</th> <td>    1.0437</td> <td>    0.091</td> <td>   11.420</td> <td> 0.000</td> <td>    0.863</td> <td>    1.224</td>\n",
       "</tr>\n",
       "</table>\n",
       "<table class=\"simpletable\">\n",
       "<tr>\n",
       "  <th>Omnibus:</th>       <td> 0.961</td> <th>  Durbin-Watson:     </th> <td>   1.817</td>\n",
       "</tr>\n",
       "<tr>\n",
       "  <th>Prob(Omnibus):</th> <td> 0.618</td> <th>  Jarque-Bera (JB):  </th> <td>   0.729</td>\n",
       "</tr>\n",
       "<tr>\n",
       "  <th>Skew:</th>          <td>-0.140</td> <th>  Prob(JB):          </th> <td>   0.694</td>\n",
       "</tr>\n",
       "<tr>\n",
       "  <th>Kurtosis:</th>      <td> 3.097</td> <th>  Cond. No.          </th> <td>    21.5</td>\n",
       "</tr>\n",
       "</table><br/><br/>Notes:<br/>[1] Standard Errors assume that the covariance matrix of the errors is correctly specified."
      ],
      "text/plain": [
       "<class 'statsmodels.iolib.summary.Summary'>\n",
       "\"\"\"\n",
       "                              OLS Regression Results                             \n",
       "=================================================================================\n",
       "Dep. Variable:     Customer_Satisfaction   R-squared:                       0.397\n",
       "Model:                               OLS   Adj. R-squared:                  0.394\n",
       "Method:                    Least Squares   F-statistic:                     130.4\n",
       "Date:                   Sat, 13 May 2023   Prob (F-statistic):           1.56e-23\n",
       "Time:                           20:04:01   Log-Likelihood:                -275.89\n",
       "No. Observations:                    200   AIC:                             555.8\n",
       "Df Residuals:                        198   BIC:                             562.4\n",
       "Df Model:                              1                                         \n",
       "Covariance Type:               nonrobust                                         \n",
       "==================================================================================\n",
       "                     coef    std err          t      P>|t|      [0.025      0.975]\n",
       "----------------------------------------------------------------------------------\n",
       "const              2.9692      0.355      8.355      0.000       2.268       3.670\n",
       "Delivery_Speed     1.0437      0.091     11.420      0.000       0.863       1.224\n",
       "==============================================================================\n",
       "Omnibus:                        0.961   Durbin-Watson:                   1.817\n",
       "Prob(Omnibus):                  0.618   Jarque-Bera (JB):                0.729\n",
       "Skew:                          -0.140   Prob(JB):                        0.694\n",
       "Kurtosis:                       3.097   Cond. No.                         21.5\n",
       "==============================================================================\n",
       "\n",
       "Notes:\n",
       "[1] Standard Errors assume that the covariance matrix of the errors is correctly specified.\n",
       "\"\"\""
      ]
     },
     "execution_count": 10,
     "metadata": {},
     "output_type": "execute_result"
    }
   ],
   "source": [
    "results.summary()"
   ]
  },
  {
   "cell_type": "code",
   "execution_count": 11,
   "id": "84b35dc0",
   "metadata": {},
   "outputs": [
    {
     "data": {
      "text/plain": [
       "const             2.969194\n",
       "Delivery_Speed    1.043712\n",
       "dtype: float64"
      ]
     },
     "execution_count": 11,
     "metadata": {},
     "output_type": "execute_result"
    }
   ],
   "source": [
    "results.params"
   ]
  },
  {
   "cell_type": "code",
   "execution_count": 14,
   "id": "ac2a0a66",
   "metadata": {},
   "outputs": [],
   "source": [
    "x1 = walmart.Product_Quality\n",
    "x2 = walmart.E_Commerce\n",
    "x3 = walmart.Technical_Support\n",
    "x4 = walmart.Complaint_Resolution\n",
    "x5 = walmart.Advertising\n",
    "x6 = walmart.Product_Line\n",
    "x7 = walmart.Salesforce_Image\n",
    "x8 = walmart.Competitive_Pricing\n",
    "x9 = walmart.Warranty_Claims\n",
    "x10 = walmart.Packaging\n",
    "x11 = walmart.Order_Billing\n",
    "x12 = walmart.Price_Flexibility"
   ]
  },
  {
   "cell_type": "code",
   "execution_count": 15,
   "id": "23e83313",
   "metadata": {},
   "outputs": [],
   "source": [
    "import statsmodels.formula.api as smf"
   ]
  },
  {
   "cell_type": "code",
   "execution_count": 16,
   "id": "77c305f8",
   "metadata": {},
   "outputs": [],
   "source": [
    "lm = smf.ols(formula= 'y ~ x1+x2+x3+x4+x5+x6+x7+x8+x9+x10+x11+x12', data = walmart).fit()"
   ]
  },
  {
   "cell_type": "code",
   "execution_count": 17,
   "id": "cf138a94",
   "metadata": {},
   "outputs": [
    {
     "data": {
      "text/html": [
       "<table class=\"simpletable\">\n",
       "<caption>OLS Regression Results</caption>\n",
       "<tr>\n",
       "  <th>Dep. Variable:</th>            <td>y</td>        <th>  R-squared:         </th> <td>   0.804</td>\n",
       "</tr>\n",
       "<tr>\n",
       "  <th>Model:</th>                   <td>OLS</td>       <th>  Adj. R-squared:    </th> <td>   0.792</td>\n",
       "</tr>\n",
       "<tr>\n",
       "  <th>Method:</th>             <td>Least Squares</td>  <th>  F-statistic:       </th> <td>   63.99</td>\n",
       "</tr>\n",
       "<tr>\n",
       "  <th>Date:</th>             <td>Sat, 13 May 2023</td> <th>  Prob (F-statistic):</th> <td>1.46e-59</td>\n",
       "</tr>\n",
       "<tr>\n",
       "  <th>Time:</th>                 <td>22:11:19</td>     <th>  Log-Likelihood:    </th> <td> -163.44</td>\n",
       "</tr>\n",
       "<tr>\n",
       "  <th>No. Observations:</th>      <td>   200</td>      <th>  AIC:               </th> <td>   352.9</td>\n",
       "</tr>\n",
       "<tr>\n",
       "  <th>Df Residuals:</th>          <td>   187</td>      <th>  BIC:               </th> <td>   395.8</td>\n",
       "</tr>\n",
       "<tr>\n",
       "  <th>Df Model:</th>              <td>    12</td>      <th>                     </th>     <td> </td>   \n",
       "</tr>\n",
       "<tr>\n",
       "  <th>Covariance Type:</th>      <td>nonrobust</td>    <th>                     </th>     <td> </td>   \n",
       "</tr>\n",
       "</table>\n",
       "<table class=\"simpletable\">\n",
       "<tr>\n",
       "      <td></td>         <th>coef</th>     <th>std err</th>      <th>t</th>      <th>P>|t|</th>  <th>[0.025</th>    <th>0.975]</th>  \n",
       "</tr>\n",
       "<tr>\n",
       "  <th>Intercept</th> <td>   -2.2667</td> <td>    0.589</td> <td>   -3.850</td> <td> 0.000</td> <td>   -3.428</td> <td>   -1.105</td>\n",
       "</tr>\n",
       "<tr>\n",
       "  <th>x1</th>        <td>    0.4119</td> <td>    0.038</td> <td>   10.938</td> <td> 0.000</td> <td>    0.338</td> <td>    0.486</td>\n",
       "</tr>\n",
       "<tr>\n",
       "  <th>x2</th>        <td>   -0.2639</td> <td>    0.086</td> <td>   -3.055</td> <td> 0.003</td> <td>   -0.434</td> <td>   -0.094</td>\n",
       "</tr>\n",
       "<tr>\n",
       "  <th>x3</th>        <td>    0.0307</td> <td>    0.046</td> <td>    0.671</td> <td> 0.503</td> <td>   -0.059</td> <td>    0.121</td>\n",
       "</tr>\n",
       "<tr>\n",
       "  <th>x4</th>        <td>    0.0996</td> <td>    0.071</td> <td>    1.399</td> <td> 0.163</td> <td>   -0.041</td> <td>    0.240</td>\n",
       "</tr>\n",
       "<tr>\n",
       "  <th>x5</th>        <td>   -0.0339</td> <td>    0.047</td> <td>   -0.720</td> <td> 0.473</td> <td>   -0.127</td> <td>    0.059</td>\n",
       "</tr>\n",
       "<tr>\n",
       "  <th>x6</th>        <td>    0.3510</td> <td>    0.067</td> <td>    5.261</td> <td> 0.000</td> <td>    0.219</td> <td>    0.483</td>\n",
       "</tr>\n",
       "<tr>\n",
       "  <th>x7</th>        <td>    0.6293</td> <td>    0.067</td> <td>    9.352</td> <td> 0.000</td> <td>    0.497</td> <td>    0.762</td>\n",
       "</tr>\n",
       "<tr>\n",
       "  <th>x8</th>        <td>   -0.0641</td> <td>    0.032</td> <td>   -1.977</td> <td> 0.050</td> <td>   -0.128</td> <td>   -0.000</td>\n",
       "</tr>\n",
       "<tr>\n",
       "  <th>x9</th>        <td>    0.0022</td> <td>    0.089</td> <td>    0.025</td> <td> 0.980</td> <td>   -0.173</td> <td>    0.178</td>\n",
       "</tr>\n",
       "<tr>\n",
       "  <th>x10</th>       <td>    0.0333</td> <td>    0.028</td> <td>    1.188</td> <td> 0.236</td> <td>   -0.022</td> <td>    0.089</td>\n",
       "</tr>\n",
       "<tr>\n",
       "  <th>x11</th>       <td>    0.0306</td> <td>    0.072</td> <td>    0.424</td> <td> 0.672</td> <td>   -0.111</td> <td>    0.173</td>\n",
       "</tr>\n",
       "<tr>\n",
       "  <th>x12</th>       <td>    0.2666</td> <td>    0.071</td> <td>    3.739</td> <td> 0.000</td> <td>    0.126</td> <td>    0.407</td>\n",
       "</tr>\n",
       "</table>\n",
       "<table class=\"simpletable\">\n",
       "<tr>\n",
       "  <th>Omnibus:</th>       <td>14.245</td> <th>  Durbin-Watson:     </th> <td>   2.377</td>\n",
       "</tr>\n",
       "<tr>\n",
       "  <th>Prob(Omnibus):</th> <td> 0.001</td> <th>  Jarque-Bera (JB):  </th> <td>  15.635</td>\n",
       "</tr>\n",
       "<tr>\n",
       "  <th>Skew:</th>          <td>-0.684</td> <th>  Prob(JB):          </th> <td>0.000403</td>\n",
       "</tr>\n",
       "<tr>\n",
       "  <th>Kurtosis:</th>      <td> 3.079</td> <th>  Cond. No.          </th> <td>    282.</td>\n",
       "</tr>\n",
       "</table><br/><br/>Notes:<br/>[1] Standard Errors assume that the covariance matrix of the errors is correctly specified."
      ],
      "text/plain": [
       "<class 'statsmodels.iolib.summary.Summary'>\n",
       "\"\"\"\n",
       "                            OLS Regression Results                            \n",
       "==============================================================================\n",
       "Dep. Variable:                      y   R-squared:                       0.804\n",
       "Model:                            OLS   Adj. R-squared:                  0.792\n",
       "Method:                 Least Squares   F-statistic:                     63.99\n",
       "Date:                Sat, 13 May 2023   Prob (F-statistic):           1.46e-59\n",
       "Time:                        22:11:19   Log-Likelihood:                -163.44\n",
       "No. Observations:                 200   AIC:                             352.9\n",
       "Df Residuals:                     187   BIC:                             395.8\n",
       "Df Model:                          12                                         \n",
       "Covariance Type:            nonrobust                                         \n",
       "==============================================================================\n",
       "                 coef    std err          t      P>|t|      [0.025      0.975]\n",
       "------------------------------------------------------------------------------\n",
       "Intercept     -2.2667      0.589     -3.850      0.000      -3.428      -1.105\n",
       "x1             0.4119      0.038     10.938      0.000       0.338       0.486\n",
       "x2            -0.2639      0.086     -3.055      0.003      -0.434      -0.094\n",
       "x3             0.0307      0.046      0.671      0.503      -0.059       0.121\n",
       "x4             0.0996      0.071      1.399      0.163      -0.041       0.240\n",
       "x5            -0.0339      0.047     -0.720      0.473      -0.127       0.059\n",
       "x6             0.3510      0.067      5.261      0.000       0.219       0.483\n",
       "x7             0.6293      0.067      9.352      0.000       0.497       0.762\n",
       "x8            -0.0641      0.032     -1.977      0.050      -0.128      -0.000\n",
       "x9             0.0022      0.089      0.025      0.980      -0.173       0.178\n",
       "x10            0.0333      0.028      1.188      0.236      -0.022       0.089\n",
       "x11            0.0306      0.072      0.424      0.672      -0.111       0.173\n",
       "x12            0.2666      0.071      3.739      0.000       0.126       0.407\n",
       "==============================================================================\n",
       "Omnibus:                       14.245   Durbin-Watson:                   2.377\n",
       "Prob(Omnibus):                  0.001   Jarque-Bera (JB):               15.635\n",
       "Skew:                          -0.684   Prob(JB):                     0.000403\n",
       "Kurtosis:                       3.079   Cond. No.                         282.\n",
       "==============================================================================\n",
       "\n",
       "Notes:\n",
       "[1] Standard Errors assume that the covariance matrix of the errors is correctly specified.\n",
       "\"\"\""
      ]
     },
     "execution_count": 17,
     "metadata": {},
     "output_type": "execute_result"
    }
   ],
   "source": [
    "lm.summary()"
   ]
  },
  {
   "cell_type": "code",
   "execution_count": 18,
   "id": "c46d37e8",
   "metadata": {},
   "outputs": [],
   "source": [
    "coefficients = lm.params"
   ]
  },
  {
   "cell_type": "code",
   "execution_count": 19,
   "id": "21af3f39",
   "metadata": {},
   "outputs": [],
   "source": [
    "p_values= lm.pvalues"
   ]
  },
  {
   "cell_type": "code",
   "execution_count": 23,
   "id": "73e6819b",
   "metadata": {},
   "outputs": [
    {
     "name": "stdout",
     "output_type": "stream",
     "text": [
      "Intercept   -2.266671\n",
      "x1           0.411850\n",
      "x2          -0.263941\n",
      "x3           0.030680\n",
      "x4           0.099568\n",
      "x5          -0.033939\n",
      "x6           0.351013\n",
      "x7           0.629299\n",
      "x8          -0.064067\n",
      "x9           0.002234\n",
      "x10          0.033331\n",
      "x11          0.030553\n",
      "x12          0.266562\n",
      "dtype: float64\n"
     ]
    }
   ],
   "source": [
    "print(coefficients)"
   ]
  },
  {
   "cell_type": "code",
   "execution_count": 22,
   "id": "64b2ec7d",
   "metadata": {},
   "outputs": [
    {
     "name": "stdout",
     "output_type": "stream",
     "text": [
      "Intercept    1.619785e-04\n",
      "x1           7.627600e-22\n",
      "x2           2.577671e-03\n",
      "x3           5.029339e-01\n",
      "x4           1.634149e-01\n",
      "x5           4.726113e-01\n",
      "x6           3.907291e-07\n",
      "x7           2.689095e-17\n",
      "x8           4.951285e-02\n",
      "x9           9.799729e-01\n",
      "x10          2.362033e-01\n",
      "x11          6.717703e-01\n",
      "x12          2.455680e-04\n",
      "dtype: float64\n"
     ]
    }
   ],
   "source": [
    "print(p_values)"
   ]
  },
  {
   "cell_type": "code",
   "execution_count": null,
   "id": "c7ddad38",
   "metadata": {},
   "outputs": [],
   "source": []
  }
 ],
 "metadata": {
  "kernelspec": {
   "display_name": "Python 3 (ipykernel)",
   "language": "python",
   "name": "python3"
  },
  "language_info": {
   "codemirror_mode": {
    "name": "ipython",
    "version": 3
   },
   "file_extension": ".py",
   "mimetype": "text/x-python",
   "name": "python",
   "nbconvert_exporter": "python",
   "pygments_lexer": "ipython3",
   "version": "3.9.12"
  }
 },
 "nbformat": 4,
 "nbformat_minor": 5
}
