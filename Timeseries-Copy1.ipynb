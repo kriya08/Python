{
 "cells": [
  {
   "cell_type": "code",
   "execution_count": 1,
   "id": "030eeb27",
   "metadata": {},
   "outputs": [],
   "source": [
    "import pandas as pd"
   ]
  },
  {
   "cell_type": "code",
   "execution_count": 2,
   "id": "de11ceaf",
   "metadata": {},
   "outputs": [],
   "source": [
    "import numpy as np"
   ]
  },
  {
   "cell_type": "code",
   "execution_count": 64,
   "id": "18401a4d",
   "metadata": {},
   "outputs": [],
   "source": [
    "start_date='2020-01-01'\n",
    "end_date= '2022-12-31'"
   ]
  },
  {
   "cell_type": "code",
   "execution_count": 65,
   "id": "039f09ea",
   "metadata": {},
   "outputs": [],
   "source": [
    "dates=pd.date_range(start=start_date,end=end_date,freq='M')"
   ]
  },
  {
   "cell_type": "code",
   "execution_count": 66,
   "id": "231a6ab1",
   "metadata": {},
   "outputs": [],
   "source": [
    "sales=np.random.randint(low=1000,high=5000,size=len(dates))"
   ]
  },
  {
   "cell_type": "code",
   "execution_count": 67,
   "id": "597e9cac",
   "metadata": {},
   "outputs": [],
   "source": [
    "df = pd.DataFrame({'Date': dates, 'Sales': sales})"
   ]
  },
  {
   "cell_type": "code",
   "execution_count": 68,
   "id": "61fdf52e",
   "metadata": {},
   "outputs": [
    {
     "data": {
      "text/html": [
       "<div>\n",
       "<style scoped>\n",
       "    .dataframe tbody tr th:only-of-type {\n",
       "        vertical-align: middle;\n",
       "    }\n",
       "\n",
       "    .dataframe tbody tr th {\n",
       "        vertical-align: top;\n",
       "    }\n",
       "\n",
       "    .dataframe thead th {\n",
       "        text-align: right;\n",
       "    }\n",
       "</style>\n",
       "<table border=\"1\" class=\"dataframe\">\n",
       "  <thead>\n",
       "    <tr style=\"text-align: right;\">\n",
       "      <th></th>\n",
       "      <th>Date</th>\n",
       "      <th>Sales</th>\n",
       "    </tr>\n",
       "  </thead>\n",
       "  <tbody>\n",
       "    <tr>\n",
       "      <th>0</th>\n",
       "      <td>2020-01-31</td>\n",
       "      <td>3776</td>\n",
       "    </tr>\n",
       "    <tr>\n",
       "      <th>1</th>\n",
       "      <td>2020-02-29</td>\n",
       "      <td>2952</td>\n",
       "    </tr>\n",
       "    <tr>\n",
       "      <th>2</th>\n",
       "      <td>2020-03-31</td>\n",
       "      <td>1128</td>\n",
       "    </tr>\n",
       "    <tr>\n",
       "      <th>3</th>\n",
       "      <td>2020-04-30</td>\n",
       "      <td>1284</td>\n",
       "    </tr>\n",
       "    <tr>\n",
       "      <th>4</th>\n",
       "      <td>2020-05-31</td>\n",
       "      <td>3869</td>\n",
       "    </tr>\n",
       "  </tbody>\n",
       "</table>\n",
       "</div>"
      ],
      "text/plain": [
       "        Date  Sales\n",
       "0 2020-01-31   3776\n",
       "1 2020-02-29   2952\n",
       "2 2020-03-31   1128\n",
       "3 2020-04-30   1284\n",
       "4 2020-05-31   3869"
      ]
     },
     "execution_count": 68,
     "metadata": {},
     "output_type": "execute_result"
    }
   ],
   "source": [
    "df.head()"
   ]
  },
  {
   "cell_type": "code",
   "execution_count": 69,
   "id": "8096d721",
   "metadata": {},
   "outputs": [],
   "source": [
    "import matplotlib.pyplot as plt"
   ]
  },
  {
   "cell_type": "code",
   "execution_count": 70,
   "id": "f69b5eb7",
   "metadata": {},
   "outputs": [
    {
     "data": {
      "text/plain": [
       "Date     datetime64[ns]\n",
       "Sales             int32\n",
       "dtype: object"
      ]
     },
     "execution_count": 70,
     "metadata": {},
     "output_type": "execute_result"
    }
   ],
   "source": [
    "df.dtypes"
   ]
  },
  {
   "cell_type": "code",
   "execution_count": 71,
   "id": "e982d0e3",
   "metadata": {},
   "outputs": [],
   "source": [
    "data=df"
   ]
  },
  {
   "cell_type": "code",
   "execution_count": 77,
   "id": "c4102af9",
   "metadata": {},
   "outputs": [],
   "source": [
    "data['Date'] = pd.to_datetime(data['Date'])\n",
    "data.set_index('Date', inplace=True)"
   ]
  },
  {
   "cell_type": "code",
   "execution_count": 78,
   "id": "9dbfbc8f",
   "metadata": {},
   "outputs": [],
   "source": [
    "from datetime import datetime"
   ]
  },
  {
   "cell_type": "code",
   "execution_count": 80,
   "id": "80fbe563",
   "metadata": {},
   "outputs": [
    {
     "data": {
      "image/png": "[encoded data removed]",
      "text/plain": [
       "<Figure size 432x288 with 1 Axes>"
      ]
     },
     "metadata": {
      "needs_background": "light"
     },
     "output_type": "display_data"
    }
   ],
   "source": [
    "plt.plot(data)\n",
    "plt.xlabel('Date')\n",
    "plt.ylabel('Sales')\n",
    "plt.title('Time Series Data')\n",
    "plt.show()\n"
   ]
  },
  {
   "cell_type": "code",
   "execution_count": 74,
   "id": "5debec76",
   "metadata": {},
   "outputs": [],
   "source": [
    "from statsmodels.tsa.stattools import adfuller"
   ]
  },
  {
   "cell_type": "code",
   "execution_count": 81,
   "id": "0041c9ae",
   "metadata": {},
   "outputs": [],
   "source": [
    "result = adfuller(data)"
   ]
  },
  {
   "cell_type": "code",
   "execution_count": 84,
   "id": "8051bf6d",
   "metadata": {},
   "outputs": [],
   "source": [
    "adf_statistic= result[0]\n",
    "p_value=result[1]"
   ]
  },
  {
   "cell_type": "code",
   "execution_count": 85,
   "id": "bd1db2d2",
   "metadata": {
    "scrolled": true
   },
   "outputs": [
    {
     "name": "stdout",
     "output_type": "stream",
     "text": [
      "ADF Statistic: -2.8915750150108352\n",
      "p_value: 0.0463365168055551\n"
     ]
    }
   ],
   "source": [
    "print(\"ADF Statistic:\",adf_statistic)\n",
    "print(\"p_value:\",p_value)"
   ]
  },
  {
   "cell_type": "code",
   "execution_count": 109,
   "id": "e8a43742",
   "metadata": {},
   "outputs": [],
   "source": [
    "from statsmodels.tsa.arima.model import ARIMA"
   ]
  },
  {
   "cell_type": "code",
   "execution_count": 111,
   "id": "febdd550",
   "metadata": {},
   "outputs": [],
   "source": [
    "from statsmodels.tsa.stattools import acf,pacf"
   ]
  },
  {
   "cell_type": "code",
   "execution_count": 117,
   "id": "78023b15",
   "metadata": {},
   "outputs": [],
   "source": [
    "acf_vals=acf(sales,nlags=20)\n",
    "pacf_vals=pacf(sales,nlags=16)"
   ]
  },
  {
   "cell_type": "code",
   "execution_count": 119,
   "id": "0aba79fe",
   "metadata": {},
   "outputs": [
    {
     "data": {
      "image/png": "[encoded data removed]",
      "text/plain": [
       "<Figure size 864x432 with 2 Axes>"
      ]
     },
     "metadata": {
      "needs_background": "light"
     },
     "output_type": "display_data"
    }
   ],
   "source": [
    "plt.figure(figsize=(12, 6))\n",
    "plt.subplot(121)\n",
    "plt.stem(range(len(acf_vals)), acf_vals)\n",
    "plt.xlabel('Lag')\n",
    "plt.ylabel('ACF Value')\n",
    "plt.title('Autocorrelation Function (ACF)')\n",
    "\n",
    "plt.subplot(122)\n",
    "plt.stem(range(len(pacf_vals)), pacf_vals)\n",
    "plt.xlabel('Lag')\n",
    "plt.ylabel('PACF Value')\n",
    "plt.title('Partial Autocorrelation Function (PACF)')\n",
    "\n",
    "plt.tight_layout()\n",
    "plt.show()"
   ]
  },
  {
   "cell_type": "code",
   "execution_count": 121,
   "id": "bc1a8bc8",
   "metadata": {},
   "outputs": [],
   "source": [
    "order = (1, 0, 1)  \n",
    "model = ARIMA(sales, order=order)\n",
    "model_fit = model.fit()"
   ]
  },
  {
   "cell_type": "code",
   "execution_count": 122,
   "id": "a0e5b070",
   "metadata": {},
   "outputs": [
    {
     "name": "stdout",
     "output_type": "stream",
     "text": [
      "                               SARIMAX Results                                \n",
      "==============================================================================\n",
      "Dep. Variable:                      y   No. Observations:                   36\n",
      "Model:                 ARIMA(1, 0, 1)   Log Likelihood                -305.484\n",
      "Date:                Mon, 01 May 2023   AIC                            618.968\n",
      "Time:                        19:30:12   BIC                            625.302\n",
      "Sample:                             0   HQIC                           621.179\n",
      "                                 - 36                                         \n",
      "Covariance Type:                  opg                                         \n",
      "==============================================================================\n",
      "                 coef    std err          z      P>|z|      [0.025      0.975]\n",
      "------------------------------------------------------------------------------\n",
      "const       2887.6939    212.725     13.575      0.000    2470.760    3304.628\n",
      "ar.L1          0.5749      2.701      0.213      0.831      -4.719       5.869\n",
      "ma.L1         -0.5346      2.794     -0.191      0.848      -6.010       4.941\n",
      "sigma2      1.338e+06   5.24e+05      2.555      0.011    3.12e+05    2.36e+06\n",
      "===================================================================================\n",
      "Ljung-Box (L1) (Q):                   0.01   Jarque-Bera (JB):                 2.48\n",
      "Prob(Q):                              0.91   Prob(JB):                         0.29\n",
      "Heteroskedasticity (H):               1.02   Skew:                            -0.07\n",
      "Prob(H) (two-sided):                  0.97   Kurtosis:                         1.72\n",
      "===================================================================================\n",
      "\n",
      "Warnings:\n",
      "[1] Covariance matrix calculated using the outer product of gradients (complex-step).\n"
     ]
    }
   ],
   "source": [
    "print(model_fit.summary())"
   ]
  },
  {
   "cell_type": "code",
   "execution_count": 123,
   "id": "3292fa9d",
   "metadata": {},
   "outputs": [],
   "source": [
    "forecast_steps = 12  # Number of steps ahead to forecast\n",
    "forecast = model_fit.forecast(steps=forecast_steps)"
   ]
  },
  {
   "cell_type": "code",
   "execution_count": 124,
   "id": "f38838ea",
   "metadata": {},
   "outputs": [
    {
     "name": "stdout",
     "output_type": "stream",
     "text": [
      "[2875.98204615 2880.96114858 2883.82347195 2885.46892818 2886.41484722\n",
      " 2886.95862519 2887.27122538 2887.45092902 2887.55423477 2887.61362188\n",
      " 2887.64776158 2887.66738739]\n"
     ]
    }
   ],
   "source": [
    "print(forecast)"
   ]
  },
  {
   "cell_type": "code",
   "execution_count": null,
   "id": "01e240e1",
   "metadata": {},
   "outputs": [],
   "source": []
  }
 ],
 "metadata": {
  "kernelspec": {
   "display_name": "Python 3 (ipykernel)",
   "language": "python",
   "name": "python3"
  },
  "language_info": {
   "codemirror_mode": {
    "name": "ipython",
    "version": 3
   },
   "file_extension": ".py",
   "mimetype": "text/x-python",
   "name": "python",
   "nbconvert_exporter": "python",
   "pygments_lexer": "ipython3",
   "version": "3.9.12"
  }
 },
 "nbformat": 4,
 "nbformat_minor": 5
}
